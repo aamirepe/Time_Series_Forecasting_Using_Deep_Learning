{
  "nbformat": 4,
  "nbformat_minor": 0,
  "metadata": {
    "colab": {
      "provenance": [],
      "gpuType": "T4"
    },
    "kernelspec": {
      "name": "python3",
      "display_name": "Python 3"
    },
    "language_info": {
      "name": "python"
    },
    "accelerator": "GPU"
  },
  "cells": [
    {
      "cell_type": "markdown",
      "source": [
        "Exporting Libraries"
      ],
      "metadata": {
        "id": "sottG2VBbJwt"
      }
    },
    {
      "cell_type": "code",
      "source": [
        "import numpy as np\n",
        "import matplotlib.pyplot as plt\n",
        "import pandas as pd"
      ],
      "metadata": {
        "id": "H3lFDy0cTxWa"
      },
      "execution_count": null,
      "outputs": []
    },
    {
      "cell_type": "markdown",
      "source": [
        "Importing Dataset from Google Drive"
      ],
      "metadata": {
        "id": "SDBPD15GbTcg"
      }
    },
    {
      "cell_type": "code",
      "execution_count": null,
      "metadata": {
        "colab": {
          "base_uri": "https://localhost:8080/"
        },
        "id": "WPju9UVUIrVC",
        "outputId": "d083e60f-c460-439a-dced-ce41193abad1"
      },
      "outputs": [
        {
          "output_type": "stream",
          "name": "stdout",
          "text": [
            "Mounted at /content/drive\n"
          ]
        }
      ],
      "source": [
        "from google.colab import drive\n",
        "drive.mount('/content/drive')"
      ]
    },
    {
      "cell_type": "code",
      "source": [
        "df=pd.read_csv('/content/drive/MyDrive/Stock_A.csv')"
      ],
      "metadata": {
        "id": "UkH5VqWLTr__"
      },
      "execution_count": null,
      "outputs": []
    },
    {
      "cell_type": "code",
      "source": [
        "df.shape"
      ],
      "metadata": {
        "colab": {
          "base_uri": "https://localhost:8080/"
        },
        "id": "baMVGVpoUmxh",
        "outputId": "b328b3c6-da5a-42e6-8a6f-fd9a04158588"
      },
      "execution_count": null,
      "outputs": [
        {
          "output_type": "execute_result",
          "data": {
            "text/plain": [
              "(3778817, 8)"
            ]
          },
          "metadata": {},
          "execution_count": 4
        }
      ]
    },
    {
      "cell_type": "markdown",
      "source": [
        "Checking for zero and NaN values"
      ],
      "metadata": {
        "id": "m7OPrlzYbbVt"
      }
    },
    {
      "cell_type": "code",
      "source": [
        "# Count the number of rows where 'Load_Interval' is equal to 0\n",
        "num_zero_Close = (df['Close'] == 0).sum()\n",
        "\n",
        "# Print the result\n",
        "print(\"Number of rows where Close is 0:\", num_zero_Close)"
      ],
      "metadata": {
        "colab": {
          "base_uri": "https://localhost:8080/"
        },
        "id": "8HliHMlcibmF",
        "outputId": "19c3fbcd-be37-4400-b2f8-351ab0a2c085"
      },
      "execution_count": null,
      "outputs": [
        {
          "output_type": "stream",
          "name": "stdout",
          "text": [
            "Number of rows where Close is 0: 0\n"
          ]
        }
      ]
    },
    {
      "cell_type": "code",
      "source": [
        "# Count the number of NaN values in the 'Load_Interval' column\n",
        "num_nan_Close = df['Close'].isna().sum()\n",
        "\n",
        "# Print the result\n",
        "print(\"Number of NaN values in Close column:\", num_nan_Close)"
      ],
      "metadata": {
        "colab": {
          "base_uri": "https://localhost:8080/"
        },
        "id": "hTJqDR08iofR",
        "outputId": "92928698-eb02-4cbc-83e0-f15463a91aff"
      },
      "execution_count": null,
      "outputs": [
        {
          "output_type": "stream",
          "name": "stdout",
          "text": [
            "Number of NaN values in Close column: 1227685\n"
          ]
        }
      ]
    },
    {
      "cell_type": "markdown",
      "source": [
        "Removing some NaN values from Starting and Ending"
      ],
      "metadata": {
        "id": "WhS_SP15bkGz"
      }
    },
    {
      "cell_type": "code",
      "source": [
        "# Identify NaN values in the first 500000 rows of the 'Close' column\n",
        "nan_indices = df.loc[:500000, 'Close'][df['Close'].isna()].index\n",
        "# Drop these NaN values from the DataFrame\n",
        "df.drop(nan_indices, inplace=True)\n",
        "# Reset the index after dropping rows\n",
        "df.reset_index(drop=True, inplace=True)"
      ],
      "metadata": {
        "id": "X5rGUVMAKIhE"
      },
      "execution_count": null,
      "outputs": []
    },
    {
      "cell_type": "code",
      "source": [
        "# Identify NaN values in the last 500000 rows of the 'Close' column\n",
        "nan_indices = df.loc[df.index[-500000:], 'Close'][df['Close'].isna()].index\n",
        "# Drop these NaN values from the DataFrame\n",
        "df.drop(nan_indices, inplace=True)\n",
        "# Reset the index after dropping rows\n",
        "df.reset_index(drop=True, inplace=True)"
      ],
      "metadata": {
        "id": "trRhX0gOKzvd"
      },
      "execution_count": null,
      "outputs": []
    },
    {
      "cell_type": "code",
      "source": [
        "df.shape"
      ],
      "metadata": {
        "colab": {
          "base_uri": "https://localhost:8080/"
        },
        "id": "F4cLhRCDLRoA",
        "outputId": "a50dafb9-32f8-4d30-fd34-15424876b06e"
      },
      "execution_count": null,
      "outputs": [
        {
          "output_type": "execute_result",
          "data": {
            "text/plain": [
              "(3274360, 8)"
            ]
          },
          "metadata": {},
          "execution_count": 9
        }
      ]
    },
    {
      "cell_type": "markdown",
      "source": [
        "Replacing NaN values with an optimum value"
      ],
      "metadata": {
        "id": "hpmgnHpFdvS5"
      }
    },
    {
      "cell_type": "code",
      "source": [
        "# Define a function to fill NaN values with the most optimum value\n",
        "def fill_nan_optimum(df):\n",
        "    for column in df.columns:\n",
        "        if df[column].dtype == 'object':  # If the column is categorical\n",
        "            most_frequent = df[column].mode()[0]  # Find the mode (most frequent value)\n",
        "            df[column].fillna(most_frequent, inplace=True)\n",
        "        else:  # If the column is numerical\n",
        "            median = df[column].median()  # Find the median\n",
        "            df[column].fillna(median, inplace=True)\n",
        "    return df\n",
        "\n",
        "# Apply the function to the DataFrame\n",
        "df = fill_nan_optimum(df)"
      ],
      "metadata": {
        "id": "2MhveTMpLb7v"
      },
      "execution_count": null,
      "outputs": []
    },
    {
      "cell_type": "markdown",
      "source": [
        "Grouping every 100 values of the dataset and replacing with their mean"
      ],
      "metadata": {
        "id": "vE7rp_4deD6F"
      }
    },
    {
      "cell_type": "code",
      "source": [
        "# Function to group each 100 values and take their mean\n",
        "def group_and_mean(df, group_size):\n",
        "    # Ensure the DataFrame length is a multiple of the group size\n",
        "    n_rows = (len(df) // group_size) * group_size\n",
        "    df = df.iloc[:n_rows]\n",
        "\n",
        "    # Group by taking mean of each group_size\n",
        "    grouped_df = df.groupby(df.index // group_size).mean()\n",
        "\n",
        "    return grouped_df\n",
        "\n",
        "# Apply the function with a group size of 100\n",
        "df = group_and_mean(df, 100)"
      ],
      "metadata": {
        "id": "h1KAMHHdimCJ"
      },
      "execution_count": null,
      "outputs": []
    },
    {
      "cell_type": "code",
      "source": [
        "# Setting Timestamp as index\n",
        "df.set_index(\"Timestamp\", inplace=True)"
      ],
      "metadata": {
        "id": "Ur2mNmDNlB6g"
      },
      "execution_count": null,
      "outputs": []
    },
    {
      "cell_type": "code",
      "source": [
        "df"
      ],
      "metadata": {
        "colab": {
          "base_uri": "https://localhost:8080/",
          "height": 455
        },
        "id": "TDTub_b8jViU",
        "outputId": "88acbb43-4459-4086-8e8f-4caf63cfbb91"
      },
      "execution_count": null,
      "outputs": [
        {
          "output_type": "execute_result",
          "data": {
            "text/plain": [
              "                   Open       High        Low      Close  Volume_(Stock_A)  \\\n",
              "Timestamp                                                                    \n",
              "1.325870e+09     6.1207     6.1259     6.1198     6.1250          5.352933   \n",
              "1.326289e+09     6.9452     6.9498     6.9372     6.9432          2.656721   \n",
              "1.326721e+09     6.4698     6.4740     6.4640     6.4682          2.727653   \n",
              "1.327295e+09     6.4185     6.4185     6.4176     6.4176          7.770868   \n",
              "1.327800e+09     5.7483     5.7530     5.7430     5.7530          2.572059   \n",
              "...                 ...        ...        ...        ...               ...   \n",
              "1.552402e+09  3865.5651  3866.1962  3864.7784  3865.6048          2.279302   \n",
              "1.552408e+09  3854.6432  3855.3076  3853.8587  3854.6485          5.249058   \n",
              "1.552414e+09  3856.6987  3857.1287  3856.2834  3856.7324          2.001702   \n",
              "1.552421e+09  3857.3155  3857.8601  3856.8693  3857.4479          3.069692   \n",
              "1.552427e+09  3863.3861  3863.9845  3862.8797  3863.4466          2.073801   \n",
              "\n",
              "              Volume_(Currency)  Weighted_Price  \n",
              "Timestamp                                        \n",
              "1.325870e+09          29.694174        6.122322  \n",
              "1.326289e+09          18.676592        6.945615  \n",
              "1.326721e+09          17.337889        6.468629  \n",
              "1.327295e+09          49.324986        6.418219  \n",
              "1.327800e+09          14.998782        5.750813  \n",
              "...                         ...             ...  \n",
              "1.552402e+09        8812.090396     3865.566833  \n",
              "1.552408e+09       20218.201046     3854.542213  \n",
              "1.552414e+09        7719.923414     3856.687039  \n",
              "1.552421e+09       11839.376929     3857.357159  \n",
              "1.552427e+09        8013.039752     3863.424578  \n",
              "\n",
              "[32743 rows x 7 columns]"
            ],
            "text/html": [
              "\n",
              "  <div id=\"df-ac7ec0e3-aea8-4a11-b0f2-823c63a06015\" class=\"colab-df-container\">\n",
              "    <div>\n",
              "<style scoped>\n",
              "    .dataframe tbody tr th:only-of-type {\n",
              "        vertical-align: middle;\n",
              "    }\n",
              "\n",
              "    .dataframe tbody tr th {\n",
              "        vertical-align: top;\n",
              "    }\n",
              "\n",
              "    .dataframe thead th {\n",
              "        text-align: right;\n",
              "    }\n",
              "</style>\n",
              "<table border=\"1\" class=\"dataframe\">\n",
              "  <thead>\n",
              "    <tr style=\"text-align: right;\">\n",
              "      <th></th>\n",
              "      <th>Open</th>\n",
              "      <th>High</th>\n",
              "      <th>Low</th>\n",
              "      <th>Close</th>\n",
              "      <th>Volume_(Stock_A)</th>\n",
              "      <th>Volume_(Currency)</th>\n",
              "      <th>Weighted_Price</th>\n",
              "    </tr>\n",
              "    <tr>\n",
              "      <th>Timestamp</th>\n",
              "      <th></th>\n",
              "      <th></th>\n",
              "      <th></th>\n",
              "      <th></th>\n",
              "      <th></th>\n",
              "      <th></th>\n",
              "      <th></th>\n",
              "    </tr>\n",
              "  </thead>\n",
              "  <tbody>\n",
              "    <tr>\n",
              "      <th>1.325870e+09</th>\n",
              "      <td>6.1207</td>\n",
              "      <td>6.1259</td>\n",
              "      <td>6.1198</td>\n",
              "      <td>6.1250</td>\n",
              "      <td>5.352933</td>\n",
              "      <td>29.694174</td>\n",
              "      <td>6.122322</td>\n",
              "    </tr>\n",
              "    <tr>\n",
              "      <th>1.326289e+09</th>\n",
              "      <td>6.9452</td>\n",
              "      <td>6.9498</td>\n",
              "      <td>6.9372</td>\n",
              "      <td>6.9432</td>\n",
              "      <td>2.656721</td>\n",
              "      <td>18.676592</td>\n",
              "      <td>6.945615</td>\n",
              "    </tr>\n",
              "    <tr>\n",
              "      <th>1.326721e+09</th>\n",
              "      <td>6.4698</td>\n",
              "      <td>6.4740</td>\n",
              "      <td>6.4640</td>\n",
              "      <td>6.4682</td>\n",
              "      <td>2.727653</td>\n",
              "      <td>17.337889</td>\n",
              "      <td>6.468629</td>\n",
              "    </tr>\n",
              "    <tr>\n",
              "      <th>1.327295e+09</th>\n",
              "      <td>6.4185</td>\n",
              "      <td>6.4185</td>\n",
              "      <td>6.4176</td>\n",
              "      <td>6.4176</td>\n",
              "      <td>7.770868</td>\n",
              "      <td>49.324986</td>\n",
              "      <td>6.418219</td>\n",
              "    </tr>\n",
              "    <tr>\n",
              "      <th>1.327800e+09</th>\n",
              "      <td>5.7483</td>\n",
              "      <td>5.7530</td>\n",
              "      <td>5.7430</td>\n",
              "      <td>5.7530</td>\n",
              "      <td>2.572059</td>\n",
              "      <td>14.998782</td>\n",
              "      <td>5.750813</td>\n",
              "    </tr>\n",
              "    <tr>\n",
              "      <th>...</th>\n",
              "      <td>...</td>\n",
              "      <td>...</td>\n",
              "      <td>...</td>\n",
              "      <td>...</td>\n",
              "      <td>...</td>\n",
              "      <td>...</td>\n",
              "      <td>...</td>\n",
              "    </tr>\n",
              "    <tr>\n",
              "      <th>1.552402e+09</th>\n",
              "      <td>3865.5651</td>\n",
              "      <td>3866.1962</td>\n",
              "      <td>3864.7784</td>\n",
              "      <td>3865.6048</td>\n",
              "      <td>2.279302</td>\n",
              "      <td>8812.090396</td>\n",
              "      <td>3865.566833</td>\n",
              "    </tr>\n",
              "    <tr>\n",
              "      <th>1.552408e+09</th>\n",
              "      <td>3854.6432</td>\n",
              "      <td>3855.3076</td>\n",
              "      <td>3853.8587</td>\n",
              "      <td>3854.6485</td>\n",
              "      <td>5.249058</td>\n",
              "      <td>20218.201046</td>\n",
              "      <td>3854.542213</td>\n",
              "    </tr>\n",
              "    <tr>\n",
              "      <th>1.552414e+09</th>\n",
              "      <td>3856.6987</td>\n",
              "      <td>3857.1287</td>\n",
              "      <td>3856.2834</td>\n",
              "      <td>3856.7324</td>\n",
              "      <td>2.001702</td>\n",
              "      <td>7719.923414</td>\n",
              "      <td>3856.687039</td>\n",
              "    </tr>\n",
              "    <tr>\n",
              "      <th>1.552421e+09</th>\n",
              "      <td>3857.3155</td>\n",
              "      <td>3857.8601</td>\n",
              "      <td>3856.8693</td>\n",
              "      <td>3857.4479</td>\n",
              "      <td>3.069692</td>\n",
              "      <td>11839.376929</td>\n",
              "      <td>3857.357159</td>\n",
              "    </tr>\n",
              "    <tr>\n",
              "      <th>1.552427e+09</th>\n",
              "      <td>3863.3861</td>\n",
              "      <td>3863.9845</td>\n",
              "      <td>3862.8797</td>\n",
              "      <td>3863.4466</td>\n",
              "      <td>2.073801</td>\n",
              "      <td>8013.039752</td>\n",
              "      <td>3863.424578</td>\n",
              "    </tr>\n",
              "  </tbody>\n",
              "</table>\n",
              "<p>32743 rows × 7 columns</p>\n",
              "</div>\n",
              "    <div class=\"colab-df-buttons\">\n",
              "\n",
              "  <div class=\"colab-df-container\">\n",
              "    <button class=\"colab-df-convert\" onclick=\"convertToInteractive('df-ac7ec0e3-aea8-4a11-b0f2-823c63a06015')\"\n",
              "            title=\"Convert this dataframe to an interactive table.\"\n",
              "            style=\"display:none;\">\n",
              "\n",
              "  <svg xmlns=\"http://www.w3.org/2000/svg\" height=\"24px\" viewBox=\"0 -960 960 960\">\n",
              "    <path d=\"M120-120v-720h720v720H120Zm60-500h600v-160H180v160Zm220 220h160v-160H400v160Zm0 220h160v-160H400v160ZM180-400h160v-160H180v160Zm440 0h160v-160H620v160ZM180-180h160v-160H180v160Zm440 0h160v-160H620v160Z\"/>\n",
              "  </svg>\n",
              "    </button>\n",
              "\n",
              "  <style>\n",
              "    .colab-df-container {\n",
              "      display:flex;\n",
              "      gap: 12px;\n",
              "    }\n",
              "\n",
              "    .colab-df-convert {\n",
              "      background-color: #E8F0FE;\n",
              "      border: none;\n",
              "      border-radius: 50%;\n",
              "      cursor: pointer;\n",
              "      display: none;\n",
              "      fill: #1967D2;\n",
              "      height: 32px;\n",
              "      padding: 0 0 0 0;\n",
              "      width: 32px;\n",
              "    }\n",
              "\n",
              "    .colab-df-convert:hover {\n",
              "      background-color: #E2EBFA;\n",
              "      box-shadow: 0px 1px 2px rgba(60, 64, 67, 0.3), 0px 1px 3px 1px rgba(60, 64, 67, 0.15);\n",
              "      fill: #174EA6;\n",
              "    }\n",
              "\n",
              "    .colab-df-buttons div {\n",
              "      margin-bottom: 4px;\n",
              "    }\n",
              "\n",
              "    [theme=dark] .colab-df-convert {\n",
              "      background-color: #3B4455;\n",
              "      fill: #D2E3FC;\n",
              "    }\n",
              "\n",
              "    [theme=dark] .colab-df-convert:hover {\n",
              "      background-color: #434B5C;\n",
              "      box-shadow: 0px 1px 3px 1px rgba(0, 0, 0, 0.15);\n",
              "      filter: drop-shadow(0px 1px 2px rgba(0, 0, 0, 0.3));\n",
              "      fill: #FFFFFF;\n",
              "    }\n",
              "  </style>\n",
              "\n",
              "    <script>\n",
              "      const buttonEl =\n",
              "        document.querySelector('#df-ac7ec0e3-aea8-4a11-b0f2-823c63a06015 button.colab-df-convert');\n",
              "      buttonEl.style.display =\n",
              "        google.colab.kernel.accessAllowed ? 'block' : 'none';\n",
              "\n",
              "      async function convertToInteractive(key) {\n",
              "        const element = document.querySelector('#df-ac7ec0e3-aea8-4a11-b0f2-823c63a06015');\n",
              "        const dataTable =\n",
              "          await google.colab.kernel.invokeFunction('convertToInteractive',\n",
              "                                                    [key], {});\n",
              "        if (!dataTable) return;\n",
              "\n",
              "        const docLinkHtml = 'Like what you see? Visit the ' +\n",
              "          '<a target=\"_blank\" href=https://colab.research.google.com/notebooks/data_table.ipynb>data table notebook</a>'\n",
              "          + ' to learn more about interactive tables.';\n",
              "        element.innerHTML = '';\n",
              "        dataTable['output_type'] = 'display_data';\n",
              "        await google.colab.output.renderOutput(dataTable, element);\n",
              "        const docLink = document.createElement('div');\n",
              "        docLink.innerHTML = docLinkHtml;\n",
              "        element.appendChild(docLink);\n",
              "      }\n",
              "    </script>\n",
              "  </div>\n",
              "\n",
              "\n",
              "<div id=\"df-97099ce8-f604-41c6-86f1-3a2967830794\">\n",
              "  <button class=\"colab-df-quickchart\" onclick=\"quickchart('df-97099ce8-f604-41c6-86f1-3a2967830794')\"\n",
              "            title=\"Suggest charts\"\n",
              "            style=\"display:none;\">\n",
              "\n",
              "<svg xmlns=\"http://www.w3.org/2000/svg\" height=\"24px\"viewBox=\"0 0 24 24\"\n",
              "     width=\"24px\">\n",
              "    <g>\n",
              "        <path d=\"M19 3H5c-1.1 0-2 .9-2 2v14c0 1.1.9 2 2 2h14c1.1 0 2-.9 2-2V5c0-1.1-.9-2-2-2zM9 17H7v-7h2v7zm4 0h-2V7h2v10zm4 0h-2v-4h2v4z\"/>\n",
              "    </g>\n",
              "</svg>\n",
              "  </button>\n",
              "\n",
              "<style>\n",
              "  .colab-df-quickchart {\n",
              "      --bg-color: #E8F0FE;\n",
              "      --fill-color: #1967D2;\n",
              "      --hover-bg-color: #E2EBFA;\n",
              "      --hover-fill-color: #174EA6;\n",
              "      --disabled-fill-color: #AAA;\n",
              "      --disabled-bg-color: #DDD;\n",
              "  }\n",
              "\n",
              "  [theme=dark] .colab-df-quickchart {\n",
              "      --bg-color: #3B4455;\n",
              "      --fill-color: #D2E3FC;\n",
              "      --hover-bg-color: #434B5C;\n",
              "      --hover-fill-color: #FFFFFF;\n",
              "      --disabled-bg-color: #3B4455;\n",
              "      --disabled-fill-color: #666;\n",
              "  }\n",
              "\n",
              "  .colab-df-quickchart {\n",
              "    background-color: var(--bg-color);\n",
              "    border: none;\n",
              "    border-radius: 50%;\n",
              "    cursor: pointer;\n",
              "    display: none;\n",
              "    fill: var(--fill-color);\n",
              "    height: 32px;\n",
              "    padding: 0;\n",
              "    width: 32px;\n",
              "  }\n",
              "\n",
              "  .colab-df-quickchart:hover {\n",
              "    background-color: var(--hover-bg-color);\n",
              "    box-shadow: 0 1px 2px rgba(60, 64, 67, 0.3), 0 1px 3px 1px rgba(60, 64, 67, 0.15);\n",
              "    fill: var(--button-hover-fill-color);\n",
              "  }\n",
              "\n",
              "  .colab-df-quickchart-complete:disabled,\n",
              "  .colab-df-quickchart-complete:disabled:hover {\n",
              "    background-color: var(--disabled-bg-color);\n",
              "    fill: var(--disabled-fill-color);\n",
              "    box-shadow: none;\n",
              "  }\n",
              "\n",
              "  .colab-df-spinner {\n",
              "    border: 2px solid var(--fill-color);\n",
              "    border-color: transparent;\n",
              "    border-bottom-color: var(--fill-color);\n",
              "    animation:\n",
              "      spin 1s steps(1) infinite;\n",
              "  }\n",
              "\n",
              "  @keyframes spin {\n",
              "    0% {\n",
              "      border-color: transparent;\n",
              "      border-bottom-color: var(--fill-color);\n",
              "      border-left-color: var(--fill-color);\n",
              "    }\n",
              "    20% {\n",
              "      border-color: transparent;\n",
              "      border-left-color: var(--fill-color);\n",
              "      border-top-color: var(--fill-color);\n",
              "    }\n",
              "    30% {\n",
              "      border-color: transparent;\n",
              "      border-left-color: var(--fill-color);\n",
              "      border-top-color: var(--fill-color);\n",
              "      border-right-color: var(--fill-color);\n",
              "    }\n",
              "    40% {\n",
              "      border-color: transparent;\n",
              "      border-right-color: var(--fill-color);\n",
              "      border-top-color: var(--fill-color);\n",
              "    }\n",
              "    60% {\n",
              "      border-color: transparent;\n",
              "      border-right-color: var(--fill-color);\n",
              "    }\n",
              "    80% {\n",
              "      border-color: transparent;\n",
              "      border-right-color: var(--fill-color);\n",
              "      border-bottom-color: var(--fill-color);\n",
              "    }\n",
              "    90% {\n",
              "      border-color: transparent;\n",
              "      border-bottom-color: var(--fill-color);\n",
              "    }\n",
              "  }\n",
              "</style>\n",
              "\n",
              "  <script>\n",
              "    async function quickchart(key) {\n",
              "      const quickchartButtonEl =\n",
              "        document.querySelector('#' + key + ' button');\n",
              "      quickchartButtonEl.disabled = true;  // To prevent multiple clicks.\n",
              "      quickchartButtonEl.classList.add('colab-df-spinner');\n",
              "      try {\n",
              "        const charts = await google.colab.kernel.invokeFunction(\n",
              "            'suggestCharts', [key], {});\n",
              "      } catch (error) {\n",
              "        console.error('Error during call to suggestCharts:', error);\n",
              "      }\n",
              "      quickchartButtonEl.classList.remove('colab-df-spinner');\n",
              "      quickchartButtonEl.classList.add('colab-df-quickchart-complete');\n",
              "    }\n",
              "    (() => {\n",
              "      let quickchartButtonEl =\n",
              "        document.querySelector('#df-97099ce8-f604-41c6-86f1-3a2967830794 button');\n",
              "      quickchartButtonEl.style.display =\n",
              "        google.colab.kernel.accessAllowed ? 'block' : 'none';\n",
              "    })();\n",
              "  </script>\n",
              "</div>\n",
              "\n",
              "  <div id=\"id_6f829d9e-6baa-45eb-bcac-f1ea8ed04041\">\n",
              "    <style>\n",
              "      .colab-df-generate {\n",
              "        background-color: #E8F0FE;\n",
              "        border: none;\n",
              "        border-radius: 50%;\n",
              "        cursor: pointer;\n",
              "        display: none;\n",
              "        fill: #1967D2;\n",
              "        height: 32px;\n",
              "        padding: 0 0 0 0;\n",
              "        width: 32px;\n",
              "      }\n",
              "\n",
              "      .colab-df-generate:hover {\n",
              "        background-color: #E2EBFA;\n",
              "        box-shadow: 0px 1px 2px rgba(60, 64, 67, 0.3), 0px 1px 3px 1px rgba(60, 64, 67, 0.15);\n",
              "        fill: #174EA6;\n",
              "      }\n",
              "\n",
              "      [theme=dark] .colab-df-generate {\n",
              "        background-color: #3B4455;\n",
              "        fill: #D2E3FC;\n",
              "      }\n",
              "\n",
              "      [theme=dark] .colab-df-generate:hover {\n",
              "        background-color: #434B5C;\n",
              "        box-shadow: 0px 1px 3px 1px rgba(0, 0, 0, 0.15);\n",
              "        filter: drop-shadow(0px 1px 2px rgba(0, 0, 0, 0.3));\n",
              "        fill: #FFFFFF;\n",
              "      }\n",
              "    </style>\n",
              "    <button class=\"colab-df-generate\" onclick=\"generateWithVariable('df')\"\n",
              "            title=\"Generate code using this dataframe.\"\n",
              "            style=\"display:none;\">\n",
              "\n",
              "  <svg xmlns=\"http://www.w3.org/2000/svg\" height=\"24px\"viewBox=\"0 0 24 24\"\n",
              "       width=\"24px\">\n",
              "    <path d=\"M7,19H8.4L18.45,9,17,7.55,7,17.6ZM5,21V16.75L18.45,3.32a2,2,0,0,1,2.83,0l1.4,1.43a1.91,1.91,0,0,1,.58,1.4,1.91,1.91,0,0,1-.58,1.4L9.25,21ZM18.45,9,17,7.55Zm-12,3A5.31,5.31,0,0,0,4.9,8.1,5.31,5.31,0,0,0,1,6.5,5.31,5.31,0,0,0,4.9,4.9,5.31,5.31,0,0,0,6.5,1,5.31,5.31,0,0,0,8.1,4.9,5.31,5.31,0,0,0,12,6.5,5.46,5.46,0,0,0,6.5,12Z\"/>\n",
              "  </svg>\n",
              "    </button>\n",
              "    <script>\n",
              "      (() => {\n",
              "      const buttonEl =\n",
              "        document.querySelector('#id_6f829d9e-6baa-45eb-bcac-f1ea8ed04041 button.colab-df-generate');\n",
              "      buttonEl.style.display =\n",
              "        google.colab.kernel.accessAllowed ? 'block' : 'none';\n",
              "\n",
              "      buttonEl.onclick = () => {\n",
              "        google.colab.notebook.generateWithVariable('df');\n",
              "      }\n",
              "      })();\n",
              "    </script>\n",
              "  </div>\n",
              "\n",
              "    </div>\n",
              "  </div>\n"
            ],
            "application/vnd.google.colaboratory.intrinsic+json": {
              "type": "dataframe",
              "variable_name": "df",
              "summary": "{\n  \"name\": \"df\",\n  \"rows\": 32743,\n  \"fields\": [\n    {\n      \"column\": \"Timestamp\",\n      \"properties\": {\n        \"dtype\": \"number\",\n        \"std\": 57113733.79158847,\n        \"min\": 1325870300.4,\n        \"max\": 1552427349.0,\n        \"num_unique_values\": 32743,\n        \"samples\": [\n          1417329690.0,\n          1442402010.0,\n          1435418010.0\n        ],\n        \"semantic_type\": \"\",\n        \"description\": \"\"\n      }\n    },\n    {\n      \"column\": \"Open\",\n      \"properties\": {\n        \"dtype\": \"number\",\n        \"std\": 3215.2707426292623,\n        \"min\": 4.5598,\n        \"max\": 19533.3207,\n        \"num_unique_values\": 32594,\n        \"samples\": [\n          747.0149,\n          8857.6983,\n          536.8927\n        ],\n        \"semantic_type\": \"\",\n        \"description\": \"\"\n      }\n    },\n    {\n      \"column\": \"High\",\n      \"properties\": {\n        \"dtype\": \"number\",\n        \"std\": 3218.5461211262414,\n        \"min\": 4.5619,\n        \"max\": 19542.8867,\n        \"num_unique_values\": 32592,\n        \"samples\": [\n          761.2237,\n          2601.7584,\n          549.4947\n        ],\n        \"semantic_type\": \"\",\n        \"description\": \"\"\n      }\n    },\n    {\n      \"column\": \"Low\",\n      \"properties\": {\n        \"dtype\": \"number\",\n        \"std\": 3211.491828509789,\n        \"min\": 4.5557,\n        \"max\": 19512.8669,\n        \"num_unique_values\": 32585,\n        \"samples\": [\n          338.6185,\n          448.9773,\n          322.0337\n        ],\n        \"semantic_type\": \"\",\n        \"description\": \"\"\n      }\n    },\n    {\n      \"column\": \"Close\",\n      \"properties\": {\n        \"dtype\": \"number\",\n        \"std\": 3215.235172067127,\n        \"min\": 4.5578,\n        \"max\": 19533.4718,\n        \"num_unique_values\": 32590,\n        \"samples\": [\n          388.83389999999997,\n          2429.4613,\n          538.8774\n        ],\n        \"semantic_type\": \"\",\n        \"description\": \"\"\n      }\n    },\n    {\n      \"column\": \"Volume_(Stock_A)\",\n      \"properties\": {\n        \"dtype\": \"number\",\n        \"std\": 11.340902496604505,\n        \"min\": 0.1894859516,\n        \"max\": 268.08576095290005,\n        \"num_unique_values\": 32666,\n        \"samples\": [\n          42.497348161,\n          2.985804715,\n          2.7753255444000002\n        ],\n        \"semantic_type\": \"\",\n        \"description\": \"\"\n      }\n    },\n    {\n      \"column\": \"Volume_(Currency)\",\n      \"properties\": {\n        \"dtype\": \"number\",\n        \"std\": 44352.8166000523,\n        \"min\": 14.998782313650999,\n        \"max\": 1114369.0376674,\n        \"num_unique_values\": 32674,\n        \"samples\": [\n          24668.82452194952,\n          1831.354067178147,\n          3120.448571121138\n        ],\n        \"semantic_type\": \"\",\n        \"description\": \"\"\n      }\n    },\n    {\n      \"column\": \"Weighted_Price\",\n      \"properties\": {\n        \"dtype\": \"number\",\n        \"std\": 3215.013772228042,\n        \"min\": 4.557059367379,\n        \"max\": 19529.21987678,\n        \"num_unique_values\": 32644,\n        \"samples\": [\n          7505.359262575999,\n          208.51370371969998,\n          167.47919769835\n        ],\n        \"semantic_type\": \"\",\n        \"description\": \"\"\n      }\n    }\n  ]\n}"
            }
          },
          "metadata": {},
          "execution_count": 13
        }
      ]
    },
    {
      "cell_type": "code",
      "source": [
        "values = df.values"
      ],
      "metadata": {
        "id": "Tbd59ZIOjo30"
      },
      "execution_count": null,
      "outputs": []
    },
    {
      "cell_type": "markdown",
      "source": [
        "Normalization"
      ],
      "metadata": {
        "id": "PECTN0TYehFD"
      }
    },
    {
      "cell_type": "code",
      "source": [
        "#Normalising data\n",
        "from sklearn.preprocessing import MinMaxScaler\n",
        "\n",
        "scaler = MinMaxScaler(feature_range=(0, 1))\n",
        "scaled_dataset = scaler.fit_transform(values)"
      ],
      "metadata": {
        "id": "ku9EAb68jdW_"
      },
      "execution_count": null,
      "outputs": []
    },
    {
      "cell_type": "markdown",
      "source": [
        "Creating window for previous data"
      ],
      "metadata": {
        "id": "9WdupHmxe0be"
      }
    },
    {
      "cell_type": "code",
      "source": [
        "#Creating a window for previous data\n",
        "def to_supervised(train):\n",
        "  window_size = 5\n",
        "  X = []\n",
        "  Y = []\n",
        "  for i in range(window_size, len(train)):\n",
        "    X.append(train[i-window_size:i,:])\n",
        "    Y.append(train[i,3:4])\n",
        "\n",
        "  return X,Y"
      ],
      "metadata": {
        "id": "WhpdI1fij4bs"
      },
      "execution_count": null,
      "outputs": []
    },
    {
      "cell_type": "code",
      "source": [
        "X, Y = to_supervised(scaled_dataset)\n",
        "X = np.array(X)\n",
        "Y = np.array(Y)\n",
        "print('Y' ,Y.shape)\n",
        "print('X' ,X.shape)"
      ],
      "metadata": {
        "colab": {
          "base_uri": "https://localhost:8080/"
        },
        "id": "5rr3Y0aKkf6y",
        "outputId": "ad9fab58-efa4-48e8-8bcc-e97b16a44072"
      },
      "execution_count": null,
      "outputs": [
        {
          "output_type": "stream",
          "name": "stdout",
          "text": [
            "Y (32738, 1)\n",
            "X (32738, 5, 7)\n"
          ]
        }
      ]
    },
    {
      "cell_type": "markdown",
      "source": [
        "Splitting Dataset into Training and Testing"
      ],
      "metadata": {
        "id": "Kdlbja8bfB8X"
      }
    },
    {
      "cell_type": "code",
      "source": [
        "#Splitting the dataset\n",
        "n_train = int(len(X)*0.2)\n",
        "X_train, X_test = X[n_train:,] , X[:n_train,]\n",
        "print('X_train' ,X_train.shape)\n",
        "print('X_test' ,X_test.shape)\n",
        "\n",
        "Y_train, Y_test = Y[n_train:,] , Y[:n_train,]\n",
        "print('Y_train' ,Y_train.shape)\n",
        "print('Y_test' ,Y_test.shape)"
      ],
      "metadata": {
        "colab": {
          "base_uri": "https://localhost:8080/"
        },
        "id": "5vIvS2_onMOP",
        "outputId": "91ec3eb6-1f81-471f-c46a-270379f412d4"
      },
      "execution_count": null,
      "outputs": [
        {
          "output_type": "stream",
          "name": "stdout",
          "text": [
            "X_train (26191, 5, 7)\n",
            "X_test (6547, 5, 7)\n",
            "Y_train (26191, 1)\n",
            "Y_test (6547, 1)\n"
          ]
        }
      ]
    },
    {
      "cell_type": "markdown",
      "source": [
        "Designing and Training Model"
      ],
      "metadata": {
        "id": "vV_cExVYfRyk"
      }
    },
    {
      "cell_type": "code",
      "source": [
        "#Importing LSTM model\n",
        "from keras.models import Sequential\n",
        "from keras.layers import Dense, Dropout,LSTM\n",
        "model = Sequential()\n",
        "\n",
        "model.add(LSTM(units = 50, return_sequences = True, input_shape=(X_train.shape[1], X_train.shape[2])))\n",
        "model.add(Dropout(0.2))\n",
        "\n",
        "model.add(LSTM(units = 50, return_sequences = True))\n",
        "model.add(Dropout(0.2))\n",
        "\n",
        "model.add(LSTM(units = 50))\n",
        "model.add(Dropout(0.2))\n",
        "\n",
        "model.add(Dense(units = 1))\n",
        "\n",
        "model.compile(optimizer = 'adam', loss = 'mean_squared_error')"
      ],
      "metadata": {
        "id": "ZmsQ0jl9pSs7"
      },
      "execution_count": null,
      "outputs": []
    },
    {
      "cell_type": "code",
      "source": [
        "model.fit(X_train, Y_train, epochs = 20, batch_size = 8)"
      ],
      "metadata": {
        "colab": {
          "base_uri": "https://localhost:8080/"
        },
        "id": "KuzuyLH4q9I2",
        "outputId": "0d4d3038-763e-4d10-e298-316fa3bd2089"
      },
      "execution_count": null,
      "outputs": [
        {
          "output_type": "stream",
          "name": "stdout",
          "text": [
            "Epoch 1/20\n",
            "3274/3274 [==============================] - 29s 8ms/step - loss: 7.6330e-04\n",
            "Epoch 2/20\n",
            "3274/3274 [==============================] - 24s 7ms/step - loss: 4.8508e-04\n",
            "Epoch 3/20\n",
            "3274/3274 [==============================] - 25s 8ms/step - loss: 4.3379e-04\n",
            "Epoch 4/20\n",
            "3274/3274 [==============================] - 25s 8ms/step - loss: 4.1181e-04\n",
            "Epoch 5/20\n",
            "3274/3274 [==============================] - 24s 7ms/step - loss: 3.5762e-04\n",
            "Epoch 6/20\n",
            "3274/3274 [==============================] - 25s 8ms/step - loss: 3.6991e-04\n",
            "Epoch 7/20\n",
            "3274/3274 [==============================] - 23s 7ms/step - loss: 3.6132e-04\n",
            "Epoch 8/20\n",
            "3274/3274 [==============================] - 24s 7ms/step - loss: 3.4687e-04\n",
            "Epoch 9/20\n",
            "3274/3274 [==============================] - 25s 7ms/step - loss: 3.4331e-04\n",
            "Epoch 10/20\n",
            "3274/3274 [==============================] - 24s 7ms/step - loss: 3.3581e-04\n",
            "Epoch 11/20\n",
            "3274/3274 [==============================] - 24s 7ms/step - loss: 3.2938e-04\n",
            "Epoch 12/20\n",
            "3274/3274 [==============================] - 24s 7ms/step - loss: 3.3820e-04\n",
            "Epoch 13/20\n",
            "3274/3274 [==============================] - 24s 7ms/step - loss: 3.1660e-04\n",
            "Epoch 14/20\n",
            "3274/3274 [==============================] - 24s 7ms/step - loss: 3.0575e-04\n",
            "Epoch 15/20\n",
            "3274/3274 [==============================] - 25s 7ms/step - loss: 3.1214e-04\n",
            "Epoch 16/20\n",
            "3274/3274 [==============================] - 23s 7ms/step - loss: 3.1266e-04\n",
            "Epoch 17/20\n",
            "3274/3274 [==============================] - 25s 8ms/step - loss: 3.1886e-04\n",
            "Epoch 18/20\n",
            "3274/3274 [==============================] - 25s 8ms/step - loss: 2.9594e-04\n",
            "Epoch 19/20\n",
            "3274/3274 [==============================] - 25s 8ms/step - loss: 2.9888e-04\n",
            "Epoch 20/20\n",
            "3274/3274 [==============================] - 25s 8ms/step - loss: 2.9370e-04\n"
          ]
        },
        {
          "output_type": "execute_result",
          "data": {
            "text/plain": [
              "<keras.src.callbacks.History at 0x7eed3c771480>"
            ]
          },
          "metadata": {},
          "execution_count": 74
        }
      ]
    },
    {
      "cell_type": "markdown",
      "source": [
        "Testing accuracy of the prediction"
      ],
      "metadata": {
        "id": "Mm_qXa0_fse5"
      }
    },
    {
      "cell_type": "code",
      "source": [
        "Y_pred = model.predict(X_test, batch_size=1)"
      ],
      "metadata": {
        "colab": {
          "base_uri": "https://localhost:8080/"
        },
        "id": "LTlrYazosH8i",
        "outputId": "b946e150-f571-47ab-ad5b-3ca663f04a37"
      },
      "execution_count": null,
      "outputs": [
        {
          "output_type": "stream",
          "name": "stdout",
          "text": [
            "6547/6547 [==============================] - 20s 3ms/step\n"
          ]
        }
      ]
    },
    {
      "cell_type": "code",
      "source": [
        "from sklearn.metrics import mean_squared_error\n",
        "mse = mean_squared_error(Y_test, Y_pred)\n",
        "rmse = np.sqrt(mse)\n",
        "rmse"
      ],
      "metadata": {
        "colab": {
          "base_uri": "https://localhost:8080/"
        },
        "id": "-zODis0ltDTd",
        "outputId": "fc7456c6-9404-4212-bb2f-e3d3120819b6"
      },
      "execution_count": null,
      "outputs": [
        {
          "output_type": "execute_result",
          "data": {
            "text/plain": [
              "0.005952280603085612"
            ]
          },
          "metadata": {},
          "execution_count": 76
        }
      ]
    },
    {
      "cell_type": "code",
      "source": [
        "#Scaling back to the original scale\n",
        "d = scaled_dataset[:6547,:]\n",
        "print('dummy',d.shape)\n",
        "print('Y_pred',Y_pred.shape)\n",
        "Y_predicted = np.concatenate((Y_pred,d[:8760, :3], d[:8760, 4:]), axis =1)\n",
        "print('concat y_pred',Y_pred.shape)\n",
        "Y_tested = np.concatenate((Y_test, d[:8760, :3], d[:8760, 4:]), axis = 1)\n",
        "print('concat Y_test', Y_test.shape)"
      ],
      "metadata": {
        "colab": {
          "base_uri": "https://localhost:8080/"
        },
        "id": "3bmYtZJLxMmN",
        "outputId": "6e6bd6f2-d795-43d7-f965-c4f69c7811b5"
      },
      "execution_count": null,
      "outputs": [
        {
          "output_type": "stream",
          "name": "stdout",
          "text": [
            "dummy (6547, 7)\n",
            "Y_pred (6547, 1)\n",
            "concat y_pred (6547, 1)\n",
            "concat Y_test (6547, 1)\n"
          ]
        }
      ]
    },
    {
      "cell_type": "code",
      "source": [
        "Y_predicted = scaler.inverse_transform(Y_predicted)\n",
        "Y_tested = scaler.inverse_transform(Y_tested)\n",
        "Y_predicted = Y_predicted[:,0:1]\n",
        "Y_tested = Y_tested[:,0:1]\n",
        "print('Y_tested', Y_tested.shape)\n",
        "print('Y_predicted', Y_predicted.shape)"
      ],
      "metadata": {
        "colab": {
          "base_uri": "https://localhost:8080/"
        },
        "id": "An4LBO9fxrPY",
        "outputId": "bf84cd9d-dc7b-4a3e-c0a6-193e259e5e32"
      },
      "execution_count": null,
      "outputs": [
        {
          "output_type": "stream",
          "name": "stdout",
          "text": [
            "Y_tested (6547, 1)\n",
            "Y_predicted (6547, 1)\n"
          ]
        }
      ]
    },
    {
      "cell_type": "code",
      "source": [
        "from sklearn.metrics import mean_squared_error\n",
        "mse = mean_squared_error(Y_tested, Y_predicted)\n",
        "rmse = np.sqrt(mse)\n",
        "rmse"
      ],
      "metadata": {
        "colab": {
          "base_uri": "https://localhost:8080/"
        },
        "id": "nVCsnJOgy5h_",
        "outputId": "ab0285d3-386b-4c6e-ccb9-d8a9a26a33c2"
      },
      "execution_count": null,
      "outputs": [
        {
          "output_type": "execute_result",
          "data": {
            "text/plain": [
              "116.2406647073667"
            ]
          },
          "metadata": {},
          "execution_count": 79
        }
      ]
    },
    {
      "cell_type": "code",
      "source": [
        "#Plot the graph between actual vs predicted values\n",
        "plt.figure(figsize=(10,6))\n",
        "plt.plot(Y_predicted[1500:1700,:], color= 'green',label = 'Predicted Close Price')\n",
        "plt.plot(Y_tested[1500:1700,:] , color = 'red',label = 'Actual Close Price')\n",
        "plt.title(\"Stock Prediction\")\n",
        "plt.xlabel(\"Timestamp\")\n",
        "plt.ylabel(\"Close\")\n",
        "plt.legend()\n",
        "plt.show()"
      ],
      "metadata": {
        "colab": {
          "base_uri": "https://localhost:8080/",
          "height": 564
        },
        "id": "aYSdlhEazGZS",
        "outputId": "d9358df0-c4b3-4a3b-9dd0-437e3a0348bb"
      },
      "execution_count": null,
      "outputs": [
        {
          "output_type": "display_data",
          "data": {
            "text/plain": [
              "<Figure size 1000x600 with 1 Axes>"
            ],
            "image/png": "[encoded data removed]"
          },
          "metadata": {}
        }
      ]
    },
    {
      "cell_type": "markdown",
      "source": [
        "Predicting for next 15 days"
      ],
      "metadata": {
        "id": "pSMCh_Vmf1en"
      }
    },
    {
      "cell_type": "code",
      "source": [
        "# Define the window size (same as used during training)\n",
        "window_size = 5\n",
        "\n",
        "# Initialize scaler (make sure it's the same one used during training)\n",
        "scaler = MinMaxScaler(feature_range=(0, 1))\n",
        "\n",
        "# Fit the scaler on the feature columns (excluding the 'Close' column)\n",
        "features = df.drop(columns=['Close'])\n",
        "scaler.fit(features)\n",
        "\n",
        "# Scale the feature columns\n",
        "scaled_features = scaler.transform(features)\n",
        "\n",
        "# Extract the most recent window of data for features and 'Close'\n",
        "recent_features = scaled_features[-window_size:]\n",
        "recent_close = df['Close'].values[-window_size:]\n",
        "\n",
        "# Prepare the initial window for prediction by combining scaled features and 'Close' column\n",
        "initial_window = np.hstack((recent_features, recent_close.reshape(-1, 1)))\n",
        "\n",
        "# Reshape to fit the model input\n",
        "X_pred = initial_window.reshape(1, window_size, -1)\n",
        "\n",
        "# Initialize list to store predictions\n",
        "predictions_scaled = []\n",
        "\n",
        "# Predict the next fifteen days\n",
        "for _ in range(15):\n",
        "    # Predict the next time step\n",
        "    next_pred_scaled = model.predict(X_pred)\n",
        "\n",
        "    # Append the prediction to the list\n",
        "    predictions_scaled.append(next_pred_scaled[0, 0])\n",
        "\n",
        "    # Update the recent features (shift the window and maintain the features)\n",
        "    recent_features = np.append(recent_features[1:], recent_features[-1:], axis=0)\n",
        "\n",
        "    # Update recent 'Close' data with the new prediction\n",
        "    recent_close = np.append(recent_close[1:], next_pred_scaled[0, 0])\n",
        "\n",
        "    # Create the new window by combining updated recent features and 'Close' column\n",
        "    next_window = np.hstack((recent_features, recent_close.reshape(-1, 1)))\n",
        "\n",
        "    # Update X_pred\n",
        "    X_pred = next_window.reshape(1, window_size, -1)\n",
        "\n",
        "# Create a dummy array with the same shape as the original scaled features\n",
        "dummy_array = np.zeros((15, scaled_features.shape[1]))\n",
        "\n",
        "# Place the predictions in the 'Close' column position (4th column, index 3)\n",
        "dummy_array[:, 3] = predictions_scaled\n",
        "\n",
        "# Inverse transform using the scaler\n",
        "inversed_predictions = scaler.inverse_transform(dummy_array)\n",
        "\n",
        "# Extract the 'Close' column (4th column) from the inverse-transformed data\n",
        "predictions = inversed_predictions[:, 3]\n",
        "\n",
        "print('Predicted values for the next fifteen days:')\n",
        "print(predictions)"
      ],
      "metadata": {
        "colab": {
          "base_uri": "https://localhost:8080/"
        },
        "id": "JFya3NHzWA2q",
        "outputId": "4e56e1d5-81be-46a7-a1b8-a3a3b24a1a20"
      },
      "execution_count": null,
      "outputs": [
        {
          "output_type": "stream",
          "name": "stdout",
          "text": [
            "1/1 [==============================] - 0s 19ms/step\n",
            "1/1 [==============================] - 0s 18ms/step\n",
            "1/1 [==============================] - 0s 17ms/step\n",
            "1/1 [==============================] - 0s 24ms/step\n",
            "1/1 [==============================] - 0s 17ms/step\n",
            "1/1 [==============================] - 0s 17ms/step\n",
            "1/1 [==============================] - 0s 17ms/step\n",
            "1/1 [==============================] - 0s 16ms/step\n",
            "1/1 [==============================] - 0s 17ms/step\n",
            "1/1 [==============================] - 0s 17ms/step\n",
            "1/1 [==============================] - 0s 17ms/step\n",
            "1/1 [==============================] - 0s 17ms/step\n",
            "1/1 [==============================] - 0s 21ms/step\n",
            "1/1 [==============================] - 0s 22ms/step\n",
            "1/1 [==============================] - 0s 18ms/step\n",
            "Predicted values for the next fifteen days:\n",
            "[318.61852028 318.59278008 315.32265769 308.21695896 280.96214931\n",
            "  96.4783623   81.82944542  72.56768609  64.20708104  54.10855782\n",
            "  44.80333396  42.64154089  41.26008927  40.3071512   39.64830123]\n"
          ]
        }
      ]
    },
    {
      "cell_type": "code",
      "source": [
        "print(\"Close Values prediction for next fifteen days:\")\n",
        "for i in range(15):\n",
        "  print(\"DAY-\"+str(i+1)+\"    \"+str(predictions[i]))"
      ],
      "metadata": {
        "colab": {
          "base_uri": "https://localhost:8080/"
        },
        "id": "OmydK6_dWQZ5",
        "outputId": "56d1a809-6810-495d-8ff3-852a5173a7d0"
      },
      "execution_count": null,
      "outputs": [
        {
          "output_type": "stream",
          "name": "stdout",
          "text": [
            "Close Values prediction for next fifteen days:\n",
            "DAY-1    318.61852027768697\n",
            "DAY-2    318.5927800836463\n",
            "DAY-3    315.32265769012065\n",
            "DAY-4    308.2169589630149\n",
            "DAY-5    280.96214931098035\n",
            "DAY-6    96.47836230246563\n",
            "DAY-7    81.82944542101208\n",
            "DAY-8    72.56768608575473\n",
            "DAY-9    64.2070810437863\n",
            "DAY-10    54.108557819997436\n",
            "DAY-11    44.803333963537426\n",
            "DAY-12    42.64154089281723\n",
            "DAY-13    41.26008926916287\n",
            "DAY-14    40.307151198408754\n",
            "DAY-15    39.64830123171412\n"
          ]
        }
      ]
    },
    {
      "cell_type": "code",
      "source": [
        "plt.figure(figsize=(10,6))\n",
        "plt.plot(predictions, color= 'green',label = 'Predicted Close Price')\n",
        "plt.title(\"Stock Prediction\")\n",
        "plt.xlabel(\"Timestamp\")\n",
        "plt.ylabel(\"Close\")\n",
        "plt.legend()\n",
        "plt.show()"
      ],
      "metadata": {
        "id": "78Ubv8qNXCWA",
        "outputId": "4f60f642-4709-410a-d2ad-4d60f19b3e8c",
        "colab": {
          "base_uri": "https://localhost:8080/",
          "height": 564
        }
      },
      "execution_count": null,
      "outputs": [
        {
          "output_type": "display_data",
          "data": {
            "text/plain": [
              "<Figure size 1000x600 with 1 Axes>"
            ],
            "image/png": "[encoded data removed]"
          },
          "metadata": {}
        }
      ]
    }
  ]
}